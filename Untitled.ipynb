{
 "cells": [
  {
   "cell_type": "code",
   "execution_count": null,
   "metadata": {
    "collapsed": true
   },
   "outputs": [],
   "source": [
    "import math\n"
   ]
  },
  {
   "cell_type": "code",
   "execution_count": 1,
   "metadata": {},
   "outputs": [
    {
     "ename": "IndentationError",
     "evalue": "unexpected indent (<ipython-input-1-d12169adcee4>, line 7)",
     "output_type": "error",
     "traceback": [
      "\u001b[0;36m  File \u001b[0;32m\"<ipython-input-1-d12169adcee4>\"\u001b[0;36m, line \u001b[0;32m7\u001b[0m\n\u001b[0;31m    for i in range(len(num_sort)):\u001b[0m\n\u001b[0m    ^\u001b[0m\n\u001b[0;31mIndentationError\u001b[0m\u001b[0;31m:\u001b[0m unexpected indent\n"
     ]
    }
   ],
   "source": [
    "nums = [3,2,4]\n",
    "target = 6\n",
    "\n",
    "num_sort = sorted(nums)\n",
    "        \n",
    "        \n",
    "        for i in range(len(num_sort)):\n",
    "            # Do a binary search for j\n",
    "            left_index = i+1\n",
    "            right_index = len(num_sort)-1\n",
    "            while left_index < right_index:\n",
    "                mid_index = int(((left_index + right_index)*0.5))\n",
    "                if num_sort[i] + num_sort[mid_index] == target:\n",
    "                    return [i,mid_index]\n",
    "                elif num_sort[i] + num_sort[mid_index] > target:\n",
    "                    right_index = mid_index - 1\n",
    "                elif num_sort[i] + num_sort[mid_index] < target:\n",
    "                    left_index = mid_index+1"
   ]
  },
  {
   "cell_type": "code",
   "execution_count": 2,
   "metadata": {
    "collapsed": true
   },
   "outputs": [],
   "source": [
    "nums = [3,2,4]\n",
    "target = 6\n",
    "\n",
    "num_sort = sorted(nums)"
   ]
  },
  {
   "cell_type": "code",
   "execution_count": 3,
   "metadata": {},
   "outputs": [
    {
     "ename": "SyntaxError",
     "evalue": "'return' outside function (<ipython-input-3-603e99765591>, line 8)",
     "output_type": "error",
     "traceback": [
      "\u001b[0;36m  File \u001b[0;32m\"<ipython-input-3-603e99765591>\"\u001b[0;36m, line \u001b[0;32m8\u001b[0m\n\u001b[0;31m    return [i,mid_index]\u001b[0m\n\u001b[0;31mSyntaxError\u001b[0m\u001b[0;31m:\u001b[0m 'return' outside function\n"
     ]
    }
   ],
   "source": [
    "        for i in range(len(num_sort)):\n",
    "            # Do a binary search for j\n",
    "            left_index = i+1\n",
    "            right_index = len(num_sort)-1\n",
    "            while left_index < right_index:\n",
    "                mid_index = int(((left_index + right_index)*0.5))\n",
    "                if num_sort[i] + num_sort[mid_index] == target:\n",
    "                    return [i,mid_index]\n",
    "                elif num_sort[i] + num_sort[mid_index] > target:\n",
    "                    right_index = mid_index - 1\n",
    "                elif num_sort[i] + num_sort[mid_index] < target:\n",
    "                    left_index = mid_index+1"
   ]
  },
  {
   "cell_type": "code",
   "execution_count": 7,
   "metadata": {},
   "outputs": [
    {
     "name": "stdout",
     "output_type": "stream",
     "text": [
      "Reached Here\n",
      "1\n",
      "Reached Here\n",
      "Reached Here\n"
     ]
    }
   ],
   "source": [
    "        for i in range(len(num_sort)):\n",
    "            # Do a binary search for j\n",
    "            left_index = i+1\n",
    "            right_index = len(num_sort)-1\n",
    "            print \"Reached Here\"\n",
    "            while left_index < right_index:\n",
    "                mid_index = int(((left_index + right_index)*0.5))\n",
    "                print mid_index\n",
    "                if num_sort[i] + num_sort[mid_index] == target:\n",
    "                    print([i,mid_index])\n",
    "                    \n",
    "                elif num_sort[i] + num_sort[mid_index] > target:\n",
    "                    right_index = mid_index - 1\n",
    "                elif num_sort[i] + num_sort[mid_index] < target:\n",
    "                    left_index = mid_index+1"
   ]
  },
  {
   "cell_type": "code",
   "execution_count": 1,
   "metadata": {
    "collapsed": true
   },
   "outputs": [],
   "source": [
    "import math\n",
    "import matplotlib.pyplot as plt\n"
   ]
  },
  {
   "cell_type": "code",
   "execution_count": 2,
   "metadata": {},
   "outputs": [
    {
     "data": {
      "text/plain": [
       "[<matplotlib.lines.Line2D at 0x10e814110>]"
      ]
     },
     "execution_count": 2,
     "metadata": {},
     "output_type": "execute_result"
    }
   ],
   "source": [
    "a = [1,2,3,4]\n",
    "plt.plot(a)"
   ]
  },
  {
   "cell_type": "code",
   "execution_count": 3,
   "metadata": {},
   "outputs": [
    {
     "data": {
      "text/plain": [
       "<matplotlib.text.Text at 0x108d77b10>"
      ]
     },
     "execution_count": 3,
     "metadata": {},
     "output_type": "execute_result"
    }
   ],
   "source": [
    "plt.xlabel('Q')\n",
    "plt.ylabel('R')"
   ]
  },
  {
   "cell_type": "code",
   "execution_count": null,
   "metadata": {
    "collapsed": true
   },
   "outputs": [],
   "source": [
    "plt.show()"
   ]
  },
  {
   "cell_type": "code",
   "execution_count": 22,
   "metadata": {},
   "outputs": [],
   "source": [
    "import numpy as np\n",
    "import matplotlib.pyplot as plt"
   ]
  },
  {
   "cell_type": "code",
   "execution_count": 23,
   "metadata": {},
   "outputs": [
    {
     "data": {
      "text/plain": [
       "[<matplotlib.lines.Line2D at 0x10a4de710>]"
      ]
     },
     "execution_count": 23,
     "metadata": {},
     "output_type": "execute_result"
    },
    {
     "data": {
      "image/png": "[encoded data removed]",
      "text/plain": [
       "<Figure size 432x288 with 1 Axes>"
      ]
     },
     "metadata": {
      "needs_background": "light"
     },
     "output_type": "display_data"
    }
   ],
   "source": [
    "z_vec = range(1,3)\n",
    "eta = 0.55\n",
    "sol = []\n",
    "for z in z_vec:\n",
    "    sol.append(z*np.log(1+ 1/(eta+z-1)))\n",
    "plt.plot(sol)"
   ]
  },
  {
   "cell_type": "code",
   "execution_count": 25,
   "metadata": {},
   "outputs": [
    {
     "name": "stdout",
     "output_type": "stream",
     "text": [
      "[0.         0.69314718 1.09861229 1.38629436]\n"
     ]
    }
   ],
   "source": [
    "a = np.asarray([1,2,3,4])\n",
    "print (np.log(a))"
   ]
  },
  {
   "cell_type": "code",
   "execution_count": 27,
   "metadata": {},
   "outputs": [
    {
     "name": "stdout",
     "output_type": "stream",
     "text": [
      "14\n"
     ]
    }
   ],
   "source": [
    "a = np.asarray([1,2,3])\n",
    "print (np.sum(np.multiply(a,a)))"
   ]
  },
  {
   "cell_type": "code",
   "execution_count": 39,
   "metadata": {},
   "outputs": [
    {
     "name": "stdout",
     "output_type": "stream",
     "text": [
      "3\n",
      "['a', 'b']\n"
     ]
    }
   ],
   "source": [
    "aa = ['a','b','']\n",
    "print (len(aa))\n",
    "aa.remove('')\n",
    "print (aa)"
   ]
  },
  {
   "cell_type": "code",
   "execution_count": 40,
   "metadata": {},
   "outputs": [
    {
     "name": "stdout",
     "output_type": "stream",
     "text": [
      "2\n"
     ]
    }
   ],
   "source": [
    "a = (2,3)\n",
    "print (a[0])"
   ]
  },
  {
   "cell_type": "code",
   "execution_count": 42,
   "metadata": {},
   "outputs": [
    {
     "name": "stdout",
     "output_type": "stream",
     "text": [
      "[2, 1]\n"
     ]
    }
   ],
   "source": [
    "def manip(list1):\n",
    "    list1.append(1)\n",
    "list1 = [ 2]\n",
    "manip(list1)\n",
    "print (list1)"
   ]
  },
  {
   "cell_type": "code",
   "execution_count": null,
   "metadata": {},
   "outputs": [],
   "source": []
  }
 ],
 "metadata": {
  "kernelspec": {
   "display_name": "Python 3",
   "language": "python",
   "name": "python3"
  },
  "language_info": {
   "codemirror_mode": {
    "name": "ipython",
    "version": 3
   },
   "file_extension": ".py",
   "mimetype": "text/x-python",
   "name": "python",
   "nbconvert_exporter": "python",
   "pygments_lexer": "ipython3",
   "version": "3.7.1"
  }
 },
 "nbformat": 4,
 "nbformat_minor": 1
}
