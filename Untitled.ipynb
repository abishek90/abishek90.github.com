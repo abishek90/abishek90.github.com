{
 "cells": [
  {
   "cell_type": "code",
   "execution_count": null,
   "metadata": {
    "collapsed": true
   },
   "outputs": [],
   "source": [
    "import math\n"
   ]
  },
  {
   "cell_type": "code",
   "execution_count": 1,
   "metadata": {
    "collapsed": false
   },
   "outputs": [
    {
     "ename": "IndentationError",
     "evalue": "unexpected indent (<ipython-input-1-d12169adcee4>, line 7)",
     "output_type": "error",
     "traceback": [
      "\u001b[0;36m  File \u001b[0;32m\"<ipython-input-1-d12169adcee4>\"\u001b[0;36m, line \u001b[0;32m7\u001b[0m\n\u001b[0;31m    for i in range(len(num_sort)):\u001b[0m\n\u001b[0m    ^\u001b[0m\n\u001b[0;31mIndentationError\u001b[0m\u001b[0;31m:\u001b[0m unexpected indent\n"
     ]
    }
   ],
   "source": [
    "nums = [3,2,4]\n",
    "target = 6\n",
    "\n",
    "num_sort = sorted(nums)\n",
    "        \n",
    "        \n",
    "        for i in range(len(num_sort)):\n",
    "            # Do a binary search for j\n",
    "            left_index = i+1\n",
    "            right_index = len(num_sort)-1\n",
    "            while left_index < right_index:\n",
    "                mid_index = int(((left_index + right_index)*0.5))\n",
    "                if num_sort[i] + num_sort[mid_index] == target:\n",
    "                    return [i,mid_index]\n",
    "                elif num_sort[i] + num_sort[mid_index] > target:\n",
    "                    right_index = mid_index - 1\n",
    "                elif num_sort[i] + num_sort[mid_index] < target:\n",
    "                    left_index = mid_index+1"
   ]
  },
  {
   "cell_type": "code",
   "execution_count": 2,
   "metadata": {
    "collapsed": true
   },
   "outputs": [],
   "source": [
    "nums = [3,2,4]\n",
    "target = 6\n",
    "\n",
    "num_sort = sorted(nums)"
   ]
  },
  {
   "cell_type": "code",
   "execution_count": 3,
   "metadata": {
    "collapsed": false
   },
   "outputs": [
    {
     "ename": "SyntaxError",
     "evalue": "'return' outside function (<ipython-input-3-603e99765591>, line 8)",
     "output_type": "error",
     "traceback": [
      "\u001b[0;36m  File \u001b[0;32m\"<ipython-input-3-603e99765591>\"\u001b[0;36m, line \u001b[0;32m8\u001b[0m\n\u001b[0;31m    return [i,mid_index]\u001b[0m\n\u001b[0;31mSyntaxError\u001b[0m\u001b[0;31m:\u001b[0m 'return' outside function\n"
     ]
    }
   ],
   "source": [
    "        for i in range(len(num_sort)):\n",
    "            # Do a binary search for j\n",
    "            left_index = i+1\n",
    "            right_index = len(num_sort)-1\n",
    "            while left_index < right_index:\n",
    "                mid_index = int(((left_index + right_index)*0.5))\n",
    "                if num_sort[i] + num_sort[mid_index] == target:\n",
    "                    return [i,mid_index]\n",
    "                elif num_sort[i] + num_sort[mid_index] > target:\n",
    "                    right_index = mid_index - 1\n",
    "                elif num_sort[i] + num_sort[mid_index] < target:\n",
    "                    left_index = mid_index+1"
   ]
  },
  {
   "cell_type": "code",
   "execution_count": 7,
   "metadata": {
    "collapsed": false
   },
   "outputs": [
    {
     "name": "stdout",
     "output_type": "stream",
     "text": [
      "Reached Here\n",
      "1\n",
      "Reached Here\n",
      "Reached Here\n"
     ]
    }
   ],
   "source": [
    "        for i in range(len(num_sort)):\n",
    "            # Do a binary search for j\n",
    "            left_index = i+1\n",
    "            right_index = len(num_sort)-1\n",
    "            print \"Reached Here\"\n",
    "            while left_index < right_index:\n",
    "                mid_index = int(((left_index + right_index)*0.5))\n",
    "                print mid_index\n",
    "                if num_sort[i] + num_sort[mid_index] == target:\n",
    "                    print([i,mid_index])\n",
    "                    \n",
    "                elif num_sort[i] + num_sort[mid_index] > target:\n",
    "                    right_index = mid_index - 1\n",
    "                elif num_sort[i] + num_sort[mid_index] < target:\n",
    "                    left_index = mid_index+1"
   ]
  },
  {
   "cell_type": "code",
   "execution_count": null,
   "metadata": {
    "collapsed": true
   },
   "outputs": [],
   "source": []
  }
 ],
 "metadata": {
  "kernelspec": {
   "display_name": "Python 2",
   "language": "python",
   "name": "python2"
  },
  "language_info": {
   "codemirror_mode": {
    "name": "ipython",
    "version": 2
   },
   "file_extension": ".py",
   "mimetype": "text/x-python",
   "name": "python",
   "nbconvert_exporter": "python",
   "pygments_lexer": "ipython2",
   "version": "2.7.11"
  }
 },
 "nbformat": 4,
 "nbformat_minor": 0
}
