{
 "cells": [
  {
   "cell_type": "code",
   "execution_count": null,
   "metadata": {
    "collapsed": true
   },
   "outputs": [],
   "source": [
    "        num_sort = sorted(nums)\n",
    "        index_sort = sorted(range(len(nums)),key=vals.__getitem__)"
   ]
  },
  {
   "cell_type": "code",
   "execution_count": 1,
   "metadata": {
    "collapsed": true
   },
   "outputs": [],
   "source": [
    "nums = [2,3,1,5]\n"
   ]
  },
  {
   "cell_type": "code",
   "execution_count": 6,
   "metadata": {
    "collapsed": false
   },
   "outputs": [
    {
     "name": "stdout",
     "output_type": "stream",
     "text": [
      "[1, 0, 2]\n"
     ]
    }
   ],
   "source": [
    "        nums = [3,2,3]\n",
    "        num_sort = sorted(nums)\n",
    "        index_sort = sorted(range(len(nums)),key=nums.__getitem__)\n",
    "        print index_sort"
   ]
  },
  {
   "cell_type": "code",
   "execution_count": 9,
   "metadata": {
    "collapsed": false
   },
   "outputs": [
    {
     "name": "stdout",
     "output_type": "stream",
     "text": [
      "[0, 2]\n"
     ]
    }
   ],
   "source": [
    "        index_sort = sorted(range(len(nums)),key=nums.__getitem__)\n",
    "        target = 6\n",
    "        ans_list = []\n",
    "        for i in range(len(num_sort)):\n",
    "            # Do a binary search for j\n",
    "            left_index = i+1\n",
    "            right_index = len(num_sort)-1\n",
    "    \n",
    "            \n",
    "            while left_index <= right_index:\n",
    "                mid_index = int(((left_index + right_index)*0.5))\n",
    "                if num_sort[i] + num_sort[mid_index] == target:\n",
    "                    print [index_sort[i],index_sort[mid_index]]\n",
    "                if left_index == right_index :\n",
    "                    break\n",
    "                elif num_sort[i] + num_sort[mid_index] > target:\n",
    "                    right_index = mid_index - 1\n",
    "                elif num_sort[i] + num_sort[mid_index] < target:\n",
    "                    left_index = mid_index+1"
   ]
  },
  {
   "cell_type": "code",
   "execution_count": 10,
   "metadata": {
    "collapsed": false
   },
   "outputs": [
    {
     "name": "stdout",
     "output_type": "stream",
     "text": [
      "31\n"
     ]
    }
   ],
   "source": [
    "print 31%100"
   ]
  },
  {
   "cell_type": "code",
   "execution_count": 11,
   "metadata": {
    "collapsed": false
   },
   "outputs": [
    {
     "name": "stdout",
     "output_type": "stream",
     "text": [
      "True\n"
     ]
    }
   ],
   "source": [
    "aa = [1,2,1]\n",
    "print aa == aa[::-1]"
   ]
  },
  {
   "cell_type": "code",
   "execution_count": 22,
   "metadata": {
    "collapsed": true
   },
   "outputs": [],
   "source": [
    "import math\n",
    "import numpy as np"
   ]
  },
  {
   "cell_type": "code",
   "execution_count": 24,
   "metadata": {
    "collapsed": false
   },
   "outputs": [
    {
     "name": "stdout",
     "output_type": "stream",
     "text": [
      "[2, 1, 4, 7, 4, 4, 7, 4, 1, 2]\n"
     ]
    }
   ],
   "source": [
    "        x = -2147447412\n",
    "        x = np.abs(x)\n",
    "        ndigs = 1\n",
    "        alist = []\n",
    "        while x/10 >= 1:\n",
    "            alist += [x%10]\n",
    "            x = int(x/10)\n",
    "        alist +=[x]\n",
    "        print alist "
   ]
  },
  {
   "cell_type": "code",
   "execution_count": 28,
   "metadata": {
    "collapsed": false
   },
   "outputs": [
    {
     "name": "stdout",
     "output_type": "stream",
     "text": [
      "False\n"
     ]
    }
   ],
   "source": [
    "        xold = 10\n",
    "        x = xold\n",
    "        alist = 0\n",
    "        while x/10 >= 1:\n",
    "            \n",
    "            alist = (alist*10) + x%10\n",
    "            x = int(x/10)\n",
    "        alist = (alist*10) + x\n",
    "        print alist == xold"
   ]
  },
  {
   "cell_type": "code",
   "execution_count": 29,
   "metadata": {
    "collapsed": false
   },
   "outputs": [
    {
     "name": "stdout",
     "output_type": "stream",
     "text": [
      "False\n"
     ]
    }
   ],
   "source": [
    "        x=1\n",
    "        xold = x\n",
    "        alist = 0\n",
    "        while x>alist:\n",
    "            \n",
    "            alist = (alist*10) + x%10\n",
    "            x = int(x/10)\n",
    "        alist = (alist*10) + x\n",
    "        print alist == x or int(alist/10) == x"
   ]
  },
  {
   "cell_type": "code",
   "execution_count": null,
   "metadata": {
    "collapsed": true
   },
   "outputs": [],
   "source": []
  }
 ],
 "metadata": {
  "kernelspec": {
   "display_name": "Python 2",
   "language": "python",
   "name": "python2"
  },
  "language_info": {
   "codemirror_mode": {
    "name": "ipython",
    "version": 2
   },
   "file_extension": ".py",
   "mimetype": "text/x-python",
   "name": "python",
   "nbconvert_exporter": "python",
   "pygments_lexer": "ipython2",
   "version": "2.7.11"
  }
 },
 "nbformat": 4,
 "nbformat_minor": 0
}
